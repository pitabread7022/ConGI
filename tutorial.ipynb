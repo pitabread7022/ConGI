{
 "cells": [
  {
   "cell_type": "markdown",
   "id": "4cb2e14d",
   "metadata": {
    "pycharm": {
     "name": "#%% md\n"
    }
   },
   "source": [
    "# Tutorial"
   ]
  },
  {
   "cell_type": "code",
   "execution_count": 1,
   "id": "421f6f1e",
   "metadata": {},
   "outputs": [],
   "source": [
    "# # %pip install --upgrade scanpy numpy scipy pandas\n",
    "# import scanpy as sc"
   ]
  },
  {
   "cell_type": "code",
   "execution_count": 2,
   "id": "2deb009f",
   "metadata": {
    "pycharm": {
     "name": "#%%\n"
    }
   },
   "outputs": [
    {
     "name": "stderr",
     "output_type": "stream",
     "text": [
      "d:\\Genomics\\.venv\\Lib\\site-packages\\tqdm\\auto.py:21: TqdmWarning: IProgress not found. Please update jupyter and ipywidgets. See https://ipywidgets.readthedocs.io/en/stable/user_install.html\n",
      "  from .autonotebook import tqdm as notebook_tqdm\n"
     ]
    }
   ],
   "source": [
    "import os\n",
    "import random\n",
    "import numpy as np\n",
    "import scanpy as sc\n",
    "import torch\n",
    "from torch.utils.data import DataLoader\n",
    "import argparse\n",
    "import matplotlib.pyplot as plt\n",
    "from sklearn.metrics import adjusted_rand_score\n",
    "from PIL import Image\n",
    "from dataset import Dataset\n",
    "from model import SpaCLR, TrainerSpaCLR\n",
    "from utils import get_predicted_results, load_ST_file\n",
    "import pandas as pd\n",
    "import warnings\n",
    "warnings.filterwarnings(\"ignore\")"
   ]
  },
  {
   "cell_type": "code",
   "execution_count": 3,
   "id": "599d5dd0",
   "metadata": {
    "pycharm": {
     "name": "#%%\n"
    }
   },
   "outputs": [],
   "source": [
    "def seed_torch(seed):\n",
    "    random.seed(seed)\n",
    "    os.environ['PYTHONHASHSEED'] = str(seed)\n",
    "    np.random.seed(seed)\n",
    "    torch.manual_seed(seed)\n",
    "    torch.cuda.manual_seed(seed)\n",
    "    torch.backends.cudnn.benchmark = False\n",
    "    torch.backends.cudnn.deterministic = True"
   ]
  },
  {
   "cell_type": "markdown",
   "id": "0c6d1b29",
   "metadata": {
    "pycharm": {
     "name": "#%% md\n"
    }
   },
   "source": [
    "## Set up parameters"
   ]
  },
  {
   "cell_type": "code",
   "execution_count": 5,
   "id": "f894efa1",
   "metadata": {
    "pycharm": {
     "name": "#%%\n"
    }
   },
   "outputs": [
    {
     "name": "stdout",
     "output_type": "stream",
     "text": [
      "Namespace(dataset='SpatialLIBD', path='D:\\\\Genomics\\\\A2\\\\dataset-1\\\\SpatialLIBID', gene_preprocess='pca', n_gene=300, img_size=56, num_workers=8, last_dim=64, lr=0.0003, p_drop=0, w_g2i=1, w_g2g=0.1, w_i2i=0.1, w_recon=0, prob_mask=0.5, pct_mask=0.2, prob_noise=0.5, pct_noise=0.8, sigma_noise=0.5, prob_swap=0.5, pct_swap=0.1, batch_size=64, epochs=1, device='cpu', log_name='log_name', name='151507')\n"
     ]
    }
   ],
   "source": [
    "parser = argparse.ArgumentParser()\n",
    "# D:\\Genomics\\A2\\dataset-1\\SpatialLIBID\\151509\\filtered_feature_bc_matrix.h5\n",
    "# preprocess\n",
    "parser.add_argument('--dataset', type=str, default=\"SpatialLIBD\")\n",
    "parser.add_argument('--path', type=str, default=\"D:\\Genomics\\A2\\dataset-1\\SpatialLIBID\")\n",
    "parser.add_argument(\"--gene_preprocess\", choices=(\"pca\", \"hvg\"), default=\"pca\")\n",
    "parser.add_argument(\"--n_gene\", choices=(300, 1000), default=300)\n",
    "parser.add_argument('--img_size', type=int, default=112)\n",
    "parser.add_argument('--num_workers', type=int, default=8)\n",
    "\n",
    "# model\n",
    "parser.add_argument('--last_dim', type=int, default=64)\n",
    "parser.add_argument('--lr', type=float, default=0.0003)\n",
    "parser.add_argument('--p_drop', type=float, default=0)\n",
    "\n",
    "parser.add_argument('--w_g2i', type=float, default=1)\n",
    "parser.add_argument('--w_g2g', type=float, default=0.1)\n",
    "parser.add_argument('--w_i2i', type=float, default=0.1)\n",
    "parser.add_argument('--w_recon', type=float, default=0)\n",
    "\n",
    "# data augmentation\n",
    "parser.add_argument('--prob_mask', type=float, default=0.5)\n",
    "parser.add_argument('--pct_mask', type=float, default=0.2)\n",
    "parser.add_argument('--prob_noise', type=float, default=0.5)\n",
    "parser.add_argument('--pct_noise', type=float, default=0.8)\n",
    "parser.add_argument('--sigma_noise', type=float, default=0.5)\n",
    "parser.add_argument('--prob_swap', type=float, default=0.5)\n",
    "parser.add_argument('--pct_swap', type=float, default=0.1)\n",
    "\n",
    "# train\n",
    "parser.add_argument('--batch_size', type=int, default=64)\n",
    "parser.add_argument('--epochs', type=int, default=250)\n",
    "parser.add_argument('--device', type=str, default=\"cuda\")\n",
    "parser.add_argument('--log_name', type=str, default=\"log_name\")\n",
    "parser.add_argument('--name', type=str, default=\"None\")\n",
    "\n",
    "args = parser.parse_args(args=['--epochs', '1', '--name', '151507', '--device', 'cpu', '--img_size', '56', '--batch_size', '5'])\n",
    "print(args)"
   ]
  },
  {
   "cell_type": "markdown",
   "id": "d857cca0",
   "metadata": {
    "pycharm": {
     "name": "#%% md\n"
    }
   },
   "source": [
    "## Training"
   ]
  },
  {
   "cell_type": "code",
   "execution_count": 5,
   "id": "362448e2",
   "metadata": {},
   "outputs": [],
   "source": [
    "# seed_torch(1)\n",
    "\n",
    "# path = args.path\n",
    "# name = args.name\n",
    "# gene_preprocess = args.gene_preprocess\n",
    "# n_gene = args.n_gene\n",
    "# last_dim = args.last_dim\n",
    "# gene_dims=[n_gene, 2*last_dim]\n",
    "# image_dims=[n_gene]\n",
    "# lr = args.lr\n",
    "# p_drop = args.p_drop\n",
    "# batch_size = args.batch_size\n",
    "# dataset = args.dataset\n",
    "# epochs = args.epochs\n",
    "# img_size = args.img_size\n",
    "# device = args.device\n",
    "# log_name = args.log_name\n",
    "# num_workers = args.num_workers\n",
    "# prob_mask = args.prob_mask\n",
    "# pct_mask = args.pct_mask\n",
    "# prob_noise = args.prob_noise\n",
    "# pct_noise = args.pct_noise\n",
    "# sigma_noise = args.sigma_noise\n",
    "# prob_swap = args.prob_swap\n",
    "# pct_swap = args.pct_swap\n",
    "# padding = 1\n",
    "# # dataset\n",
    "# trainset = Dataset(dataset, path, name, gene_preprocess=gene_preprocess, n_genes=n_gene,\n",
    "#                    prob_mask=prob_mask, pct_mask=pct_mask, prob_noise=prob_noise, pct_noise=pct_noise, sigma_noise=sigma_noise,\n",
    "#                    prob_swap=prob_swap, pct_swap=pct_swap, img_size=img_size, train=True)\n",
    "# trainloader = DataLoader(trainset, batch_size=batch_size, shuffle=True, num_workers=num_workers, pin_memory=True)"
   ]
  },
  {
   "cell_type": "code",
   "execution_count": 6,
   "id": "b927a663",
   "metadata": {},
   "outputs": [],
   "source": [
    "# print(dir(trainset))\n",
    "# print(dir(trainloader))"
   ]
  },
  {
   "cell_type": "code",
   "execution_count": 6,
   "id": "24b2ad3a",
   "metadata": {
    "pycharm": {
     "name": "#%%\n"
    }
   },
   "outputs": [],
   "source": [
    "# seed\n",
    "seed_torch(1)\n",
    "\n",
    "path = args.path\n",
    "name = args.name\n",
    "gene_preprocess = args.gene_preprocess\n",
    "n_gene = args.n_gene\n",
    "last_dim = args.last_dim\n",
    "gene_dims=[n_gene, 2*last_dim]\n",
    "image_dims=[n_gene]\n",
    "lr = args.lr\n",
    "p_drop = args.p_drop\n",
    "batch_size = args.batch_size\n",
    "dataset = args.dataset\n",
    "epochs = args.epochs\n",
    "img_size = args.img_size\n",
    "device = args.device\n",
    "log_name = args.log_name\n",
    "num_workers = args.num_workers\n",
    "prob_mask = args.prob_mask\n",
    "pct_mask = args.pct_mask\n",
    "prob_noise = args.prob_noise\n",
    "pct_noise = args.pct_noise\n",
    "sigma_noise = args.sigma_noise\n",
    "prob_swap = args.prob_swap\n",
    "pct_swap = args.pct_swap\n",
    "padding = 1\n",
    "# dataset\n",
    "trainset = Dataset(dataset, path, name, gene_preprocess=gene_preprocess, n_genes=n_gene,\n",
    "                   prob_mask=prob_mask, pct_mask=pct_mask, prob_noise=prob_noise, pct_noise=pct_noise, sigma_noise=sigma_noise,\n",
    "                   prob_swap=prob_swap, pct_swap=pct_swap, img_size=img_size, train=True)\n",
    "trainloader = DataLoader(trainset, batch_size=batch_size, shuffle=True, num_workers=num_workers, pin_memory=True)\n",
    "\n",
    "testset = Dataset(dataset, path, name, gene_preprocess=gene_preprocess, n_genes=n_gene,\n",
    "                   prob_mask=prob_mask, pct_mask=pct_mask, prob_noise=prob_noise, pct_noise=pct_noise, sigma_noise=sigma_noise,\n",
    "                   prob_swap=prob_swap, pct_swap=pct_swap, img_size=img_size, train=False)\n",
    "testloader = DataLoader(testset, batch_size=batch_size, shuffle=False, num_workers=num_workers, pin_memory=True)\n",
    "\n",
    "# network\n",
    "network = SpaCLR(gene_dims=gene_dims, image_dims=image_dims, p_drop=p_drop, n_pos=trainset.n_pos, backbone='densenet', projection_dims=[last_dim, last_dim])\n",
    "optimizer = torch.optim.AdamW(network.parameters(), lr=lr)\n",
    "\n",
    "# log\n",
    "save_name = f'{name}_{args.w_g2i}_{args.w_g2g}_{args.w_i2i}'\n",
    "log_dir = os.path.join('log', log_name, save_name)\n",
    "\n",
    "# train\n",
    "trainer = TrainerSpaCLR(args, trainset.n_clusters, network, optimizer, log_dir, device=device)\n",
    "# trainer.fit(trainloader, epochs)"
   ]
  },
  {
   "cell_type": "code",
   "execution_count": null,
   "id": "53d7a5f5",
   "metadata": {},
   "outputs": [],
   "source": [
    "# %pip freeze >> requirements.txt"
   ]
  },
  {
   "cell_type": "markdown",
   "metadata": {
    "collapsed": false,
    "pycharm": {
     "name": "#%% md\n"
    }
   },
   "source": [
    "Save embeddings"
   ]
  },
  {
   "cell_type": "code",
   "execution_count": null,
   "id": "07edd90c",
   "metadata": {
    "pycharm": {
     "name": "#%%\n"
    }
   },
   "outputs": [],
   "source": [
    "xg, xi, _ = trainer.valid(testloader)\n",
    "np.save(f'embeddings/{args.name}_xg.npy', xg)\n",
    "np.save(f'embeddings/{args.name}_xi.npy', xi)"
   ]
  },
  {
   "cell_type": "markdown",
   "metadata": {
    "collapsed": false,
    "pycharm": {
     "name": "#%% md\n"
    }
   },
   "source": [
    "Loading embeddings for clustering"
   ]
  },
  {
   "cell_type": "code",
   "execution_count": null,
   "id": "cbac7d20",
   "metadata": {
    "pycharm": {
     "name": "#%%\n"
    }
   },
   "outputs": [],
   "source": [
    "xg = np.load(f'embeddings/{args.name}_xg.npy')\n",
    "xi = np.load(f'embeddings/{args.name}_xi.npy')\n",
    "z = xg + 0.1*xi\n",
    "\n",
    "ari, pred_label = get_predicted_results(args.dataset, args.name, args.path, z)\n",
    "print(\"Ari value : \", ari)\n",
    "\n",
    "if not os.path.exists(\"output\"):\n",
    "    os.mkdir(\"output\")\n",
    "pd.DataFrame({\"cluster_labels\": pred_label}).to_csv(\n",
    "    \"output/\" + f\"{args.name}_pred.csv\")"
   ]
  },
  {
   "cell_type": "code",
   "execution_count": null,
   "id": "a6a23445",
   "metadata": {
    "pycharm": {
     "name": "#%%\n"
    }
   },
   "outputs": [],
   "source": [
    "adata = load_ST_file(os.path.join(args.path, args.name))\n",
    "df_meta = pd.read_csv(os.path.join(args.path, args.name, 'metadata.tsv'), sep='\\t')\n",
    "label = pd.Categorical(df_meta['layer_guess']).codes\n",
    "adata = adata[label != -1]\n",
    "label = label[label != -1]\n",
    "n_clusters = label.max()+1\n",
    "\n",
    "pred = pd.read_csv(f'output/{args.name}_pred.csv')['cluster_labels']\n",
    "adata.obs['label'] = df_meta['layer_guess']\n",
    "adata.obs['pred'] = pred.array.astype(str)\n",
    "\n",
    "adata.obsm['ConGI'] = z\n",
    "sc.pp.neighbors(adata, use_rep='ConGI')\n",
    "sc.tl.umap(adata)"
   ]
  },
  {
   "cell_type": "code",
   "execution_count": null,
   "id": "7e4649b7",
   "metadata": {
    "pycharm": {
     "name": "#%%\n"
    },
    "scrolled": true
   },
   "outputs": [],
   "source": [
    "plt.rcParams[\"figure.figsize\"] = (3, 3)\n",
    "sc.pl.spatial(adata, color=[\"pred\", \"label\"], title=[f\"ConGI (ARI={adjusted_rand_score(pred, label):.2f})\", \"Ground Truth\"])"
   ]
  },
  {
   "cell_type": "code",
   "execution_count": null,
   "id": "5de31ad1",
   "metadata": {
    "pycharm": {
     "name": "#%%\n"
    }
   },
   "outputs": [],
   "source": [
    "plt.rcParams[\"figure.figsize\"] = (3, 3)\n",
    "sc.pl.umap(adata, color=[\"pred\", \"label\"], title=[f\"ConGI (ARI={adjusted_rand_score(pred, label):.2f})\", \"Ground Truth\"])"
   ]
  },
  {
   "cell_type": "markdown",
   "id": "2502bfc0",
   "metadata": {
    "pycharm": {
     "name": "#%% md\n"
    }
   },
   "source": []
  }
 ],
 "metadata": {
  "kernelspec": {
   "display_name": "Python 3",
   "language": "python",
   "name": "python3"
  },
  "language_info": {
   "codemirror_mode": {
    "name": "ipython",
    "version": 3
   },
   "file_extension": ".py",
   "mimetype": "text/x-python",
   "name": "python",
   "nbconvert_exporter": "python",
   "pygments_lexer": "ipython3",
   "version": "3.11.6"
  }
 },
 "nbformat": 4,
 "nbformat_minor": 5
}
