{
 "cells": [
  {
   "cell_type": "code",
   "execution_count": null,
   "metadata": {},
   "outputs": [],
   "source": [
    "# %pip install torch\n",
    "# %pip install CUDA\n",
    "# %pip install scanpy==1.8.1\n",
    "# %pip install rpy2\n",
    "# %pip install torchvision\n",
    "# %pip install opencv-python\n",
    "# %pip install torchtoolbox\n",
    "# %pip install pandas"
   ]
  },
  {
   "cell_type": "code",
   "execution_count": null,
   "metadata": {},
   "outputs": [],
   "source": [
    "import pandas as pd\n",
    "import os\n",
    "from ConGI.utils import load_ST_file\n",
    "path = 'D:\\\\Genomics\\\\A2\\\\dataset-1\\\\SpatialLIBID\\\\'\n",
    "def form_meta(name, path='barcode_level_layer_map.tsv'):\n",
    "    file_path = os.path.join(os.path.dirname(path), 'metadata.tsv')\n",
    "    df = pd.read_csv(path, delimiter='\\t')\n",
    "    print(df.head())\n",
    "    data = {\n",
    "    'barcodes': [],\n",
    "    'layer_guess': []\n",
    "    }\n",
    "    for i in range(len(df['AAACAACGAATAGTTC-1'])):\n",
    "        if df['151507'][i] == int(name):\n",
    "            data['barcodes'].append(df['AAACAACGAATAGTTC-1'][i])\n",
    "            data['layer_guess'].append(df['L1'][i])\n",
    "    \n",
    "    df = pd.DataFrame(data)\n",
    "    print(df.head())\n",
    "    print(df.shape)\n",
    "    df.to_csv(os.path.join(path,name,'metadata.tsv'), sep='\\t', index=True)\n",
    "\n",
    "def adjust_meta():\n",
    "    df_meta = pd.read_csv('D:\\\\Genomics\\\\A2\\\\dataset-1\\\\SpatialLIBID\\\\151507\\\\metadata.tsv', delimiter='\\t')\n",
    "    path = 'D:\\Genomics\\A2\\dataset-1\\SpatialLIBID'\n",
    "    name = '151507'\n",
    "    adata = load_ST_file(os.path.join(path, name))\n",
    "    data = {\n",
    "    'barcodes': [],\n",
    "    'layer_guess': []\n",
    "    }\n",
    "\n",
    "    barcodelist = df_meta['barcodes'].values.tolist()\n",
    "    layerlist = df_meta['layer_guess'].values.tolist()\n",
    "\n",
    "    for barcode in adata.obs.index:\n",
    "        try:\n",
    "            index = barcodelist.index(str(barcode))\n",
    "            data['barcodes'].append(barcodelist[index])\n",
    "            data['layer_guess'].append(layerlist[index])\n",
    "        except:\n",
    "            data['barcodes'].append(str(barcode))\n",
    "            data['layer_guess'].append(str(-1))\n",
    "    df = pd.DataFrame(data)\n",
    "    df.to_csv('D:\\\\Genomics\\\\A2\\\\dataset-1\\\\SpatialLIBID\\\\151507\\\\metadata.tsv', sep='\\t', index=False)\n",
    "\n",
    "\n",
    "form_meta(name = '151507')\n",
    "adjust_meta()\n"
   ]
  },
  {
   "cell_type": "code",
   "execution_count": null,
   "metadata": {},
   "outputs": [],
   "source": [
    "# from ConGI.utils import load_ST_file\n",
    "# path = 'D:\\Genomics\\A2\\dataset-1\\SpatialLIBID'\n",
    "# name = '151507'\n",
    "# adata = load_ST_file(os.path.join(path, name))\n",
    "# df_meta = pd.read_csv(os.path.join(path, name, 'metadata.tsv'), sep='\\t')\n",
    "# label = pd.Categorical(df_meta['layer_guess']).codes\n",
    "\n",
    "# data = {\n",
    "#     'barcodes': [],\n",
    "#     'layer_guess': []\n",
    "#     }\n",
    "\n",
    "# barcodelist = df_meta['barcodes'].values.tolist()\n",
    "# layerlist = df_meta['layer_guess'].values.tolist()\n",
    "\n",
    "# for barcode in adata.obs.index:\n",
    "#     try:\n",
    "#         index = barcodelist.index(str(barcode))\n",
    "#         data['barcodes'].append(barcodelist[index])\n",
    "#         data['layer_guess'].append(layerlist[index])\n",
    "#     except:\n",
    "#         data['barcodes'].append(str(barcode))\n",
    "#         data['layer_guess'].append(str(-1))\n",
    "# print(data.keys())\n",
    "# print(data['barcodes'])\n",
    "# print(data['layer_guess'])\n",
    "# print(barcodelist)\n",
    "# print(layerlist)"
   ]
  },
  {
   "cell_type": "code",
   "execution_count": null,
   "metadata": {},
   "outputs": [],
   "source": [
    "import numpy as np\n",
    "\n",
    "def pad_image(image_matrix):\n",
    "    # Get the dimensions of the original image matrix\n",
    "    height, width = image_matrix.shape\n",
    "\n",
    "    # Determine the desired dimensions for the padded image\n",
    "    padded_height = height + 2  # Add 2 rows of zeros (one at the top and one at the bottom)\n",
    "    padded_width = width + 2    # Add 2 columns of zeros (one on the left and one on the right)\n",
    "\n",
    "    # Create a new matrix filled with zeros with the desired dimensions\n",
    "    padded_image = np.zeros((padded_height, padded_width), dtype=image_matrix.dtype)\n",
    "\n",
    "    # Copy the original image into the center of the padded matrix\n",
    "    padded_image[1:-1, 1:-1] = image_matrix\n",
    "\n",
    "    return padded_image\n",
    "\n",
    "# Example usage:\n",
    "original_image = np.array([[1, 2, 3],\n",
    "                           [4, 5, 6],\n",
    "                           [7, 8, 9]])\n",
    "\n",
    "padded_image = pad_image(original_image)\n",
    "print(padded_image)"
   ]
  },
  {
   "cell_type": "code",
   "execution_count": null,
   "metadata": {},
   "outputs": [],
   "source": [
    "%pwd"
   ]
  },
  {
   "cell_type": "code",
   "execution_count": null,
   "metadata": {},
   "outputs": [],
   "source": [
    "from dataset import Dataset\n",
    "trainset = Dataset(dataset='SpatialLIBD', path='D:\\GenSomics\\A2\\dataset-1\\SpatialLIBID', name='151507', gene_preprocess=gene_preprocess, n_genes=n_gene,\n",
    "                   prob_mask=prob_mask, pct_mask=pct_mask, prob_noise=prob_noise, pct_noise=pct_noise, sigma_noise=sigma_noise,\n",
    "                   prob_swap=prob_swap, pct_swap=pct_swap, img_size=img_size, train=True)\n",
    "\n",
    "# dataset = Dataset.__init__(dataset = \"SpatialLIBD\", path = 'D:\\Genomics\\A2\\dataset-1\\SpatialLIBID', name = '151507')\n",
    "# dataset = Dataset(dataset='SpatialLIBD', path='D:\\GenSomics\\A2\\dataset-1\\SpatialLIBID', name='151507')\n",
    "print(dataset)"
   ]
  },
  {
   "cell_type": "code",
   "execution_count": null,
   "metadata": {},
   "outputs": [],
   "source": [
    "# dataset.__init__\n",
    "# dataset.__init_subclass__\n",
    "# dataset.__getstate__\n",
    "# dataset.__annotations__\n",
    "dataset.image"
   ]
  },
  {
   "cell_type": "code",
   "execution_count": null,
   "metadata": {},
   "outputs": [],
   "source": [
    "# dataset.__init__(dataset='SpatialLIBD', path='D:\\Genomics\\A2\\dataset-1\\SpatialLIBID', name='151507')\n",
    "dataset.__getitem__(0)\n",
    "print(dir(dataset))\n",
    "print(dataset.label)\n",
    "print(dataset.img_train_transform)\n",
    "print(dataset.image)"
   ]
  },
  {
   "cell_type": "code",
   "execution_count": null,
   "metadata": {},
   "outputs": [],
   "source": [
    "print(dataset.image.shape)\n",
    "print(dataset.label.shape)\n",
    "# print(dataset.label)\n",
    "print(dataset.image[1].shape)\n",
    "print(dataset.image[1])\n",
    "print(dataset.gene_train_transform.__dict__)\n",
    "print(dataset.img_train_transform.__dict__)\n"
   ]
  },
  {
   "cell_type": "code",
   "execution_count": null,
   "metadata": {},
   "outputs": [],
   "source": [
    "print(dataset.spatial)"
   ]
  },
  {
   "cell_type": "code",
   "execution_count": null,
   "metadata": {},
   "outputs": [],
   "source": [
    "#what can i access from dataset\n",
    "print(dataset.__dict__.keys())"
   ]
  },
  {
   "cell_type": "code",
   "execution_count": null,
   "metadata": {},
   "outputs": [],
   "source": [
    "#generate random number\n",
    "import random\n",
    "#generate an array of size 64 with numbers in range 0:265\n",
    "img = random.sample(range(0, 265), 64)\n",
    "#n where n is randomly sampled from 0:2\n",
    "n = [random.randint(0, 2),random.randint(0, 2),random.randint(0, 2)]\n",
    "xi = [img, n, 0, 0]\n",
    "# unpack image matrix xi[0] in to a 8x8 matrix\n",
    "image1 = np.reshape(xi[0], (8,8))\n",
    "print(image1)\n",
    "\n",
    "\n",
    "def pad_image(image):\n",
    "    img = np.reshape(image[0], (8,8))\n",
    "    height, width = img.shape\n",
    "    padded_height = height + 2\n",
    "    padded_width = width + 2 \n",
    "    padded_image = np.zeros((padded_height, padded_width))\n",
    "    padded_image[1:-1, 1:-1] = img\n",
    "    image[0] = np.reshape(padded_image, (1, 100))\n",
    "    return image\n",
    "\n",
    "xi = pad_image(xi)\n",
    "image2 = np.reshape(xi[0], (10,10))\n",
    "print(image2)"
   ]
  },
  {
   "cell_type": "code",
   "execution_count": 1,
   "metadata": {},
   "outputs": [
    {
     "name": "stderr",
     "output_type": "stream",
     "text": [
      "d:\\Genomics\\.venv\\Lib\\site-packages\\tqdm\\auto.py:21: TqdmWarning: IProgress not found. Please update jupyter and ipywidgets. See https://ipywidgets.readthedocs.io/en/stable/user_install.html\n",
      "  from .autonotebook import tqdm as notebook_tqdm\n",
      "d:\\Genomics\\.venv\\Lib\\site-packages\\anndata\\_core\\anndata.py:1840: UserWarning: Variable names are not unique. To make them unique, call `.var_names_make_unique`.\n",
      "  utils.warn_names_duplicates(\"var\")\n",
      "d:\\Genomics\\.venv\\Lib\\site-packages\\anndata\\_core\\anndata.py:1113: FutureWarning: is_categorical_dtype is deprecated and will be removed in a future version. Use isinstance(dtype, CategoricalDtype) instead\n",
      "  if not is_categorical_dtype(df_full[k]):\n",
      "d:\\Genomics\\.venv\\Lib\\site-packages\\anndata\\_core\\anndata.py:1840: UserWarning: Variable names are not unique. To make them unique, call `.var_names_make_unique`.\n",
      "  utils.warn_names_duplicates(\"var\")\n"
     ]
    },
    {
     "ename": "ValueError",
     "evalue": "setting an array element with a sequence. The requested array has an inhomogeneous shape after 1 dimensions. The detected shape was (4226,) + inhomogeneous part.",
     "output_type": "error",
     "traceback": [
      "\u001b[1;31m---------------------------------------------------------------------------\u001b[0m",
      "\u001b[1;31mValueError\u001b[0m                                Traceback (most recent call last)",
      "\u001b[1;32md:\\Genomics\\A2\\ConGI\\book1.ipynb Cell 13\u001b[0m line \u001b[0;36m3\n\u001b[0;32m     <a href='vscode-notebook-cell:/d%3A/Genomics/A2/ConGI/book1.ipynb#X30sZmlsZQ%3D%3D?line=29'>30</a>\u001b[0m     patches\u001b[39m.\u001b[39mappend(full_image[y\u001b[39m-\u001b[39mimg_size:y\u001b[39m+\u001b[39mimg_size, x\u001b[39m-\u001b[39mimg_size:x\u001b[39m+\u001b[39mimg_size])\n\u001b[0;32m     <a href='vscode-notebook-cell:/d%3A/Genomics/A2/ConGI/book1.ipynb#X30sZmlsZQ%3D%3D?line=30'>31</a>\u001b[0m patches \u001b[39m=\u001b[39m [patch \u001b[39mfor\u001b[39;00m patch \u001b[39min\u001b[39;00m patches]\n\u001b[1;32m---> <a href='vscode-notebook-cell:/d%3A/Genomics/A2/ConGI/book1.ipynb#X30sZmlsZQ%3D%3D?line=31'>32</a>\u001b[0m patches \u001b[39m=\u001b[39m np\u001b[39m.\u001b[39;49marray(patches)\n",
      "\u001b[1;31mValueError\u001b[0m: setting an array element with a sequence. The requested array has an inhomogeneous shape after 1 dimensions. The detected shape was (4226,) + inhomogeneous part."
     ]
    }
   ],
   "source": [
    "import os\n",
    "import numpy as np\n",
    "import pandas as pd\n",
    "from copy import deepcopy\n",
    "import torch\n",
    "from torch.utils import data\n",
    "from torchvision import transforms\n",
    "from torchtoolbox.transform import Cutout\n",
    "import cv2\n",
    "import scanpy as sc\n",
    "\n",
    "from utils import load_ST_file, adata_preprocess_pca, adata_preprocess_hvg, extract_wash_patches, build_her2st_data\n",
    "path = \"D:\\Genomics\\A2\\dataset-1\\SpatialLIBID\"\n",
    "name = \"151507\"\n",
    "img_size = 18\n",
    "adata = load_ST_file(os.path.join(path, name))\n",
    "df_meta = pd.read_csv(os.path.join(path, name, 'metadata.tsv'), sep='\\t')\n",
    "full_image = cv2.imread(os.path.join(path, name, 'tissue_hires_image.png'))\n",
    "full_image = cv2.cvtColor(full_image, cv2.COLOR_BGR2RGB)\n",
    "patches = []\n",
    "# x_coordinates = adata.obsm['spatial'][:, 0]\n",
    "# y_coordinates = adata.obsm['spatial'][:, 1]\n",
    "# min_x = np.min(x_coordinates)\n",
    "# max_x = np.max(x_coordinates)\n",
    "# min_y = np.min(y_coordinates)\n",
    "# max_y = np.max(y_coordinates)\n",
    "for x, y in adata.obsm['spatial']:\n",
    "    x = int(x/5.5)\n",
    "    y = int(y/5.9)\n",
    "    patches.append(full_image[y-img_size:y+img_size, x-img_size:x+img_size])\n",
    "patches = [patch for patch in patches]\n",
    "patches = np.array(patches)"
   ]
  },
  {
   "cell_type": "code",
   "execution_count": null,
   "metadata": {},
   "outputs": [],
   "source": [
    "print(patches[1].shape)\n",
    "patches = [patch for patch in patches]\n",
    "# patches = patches[:][:, :, 0]\n",
    "patches = np.array(patches)\n",
    "print(patches.shape)"
   ]
  },
  {
   "cell_type": "code",
   "execution_count": null,
   "metadata": {},
   "outputs": [],
   "source": [
    "print(len(patches))\n",
    "print(patches[0].shape)\n",
    "height, width, channels = patches[0].shape\n",
    "red = patches[0][:, :, 0]\n",
    "print(red)"
   ]
  },
  {
   "cell_type": "code",
   "execution_count": null,
   "metadata": {},
   "outputs": [],
   "source": [
    "cv2.imshow('image', red)\n",
    "cv2.waitKey(0)"
   ]
  },
  {
   "cell_type": "code",
   "execution_count": null,
   "metadata": {},
   "outputs": [],
   "source": [
    "print(full_image.shape)\n",
    "print(adata.obsm['spatial'])"
   ]
  },
  {
   "cell_type": "code",
   "execution_count": null,
   "metadata": {},
   "outputs": [],
   "source": [
    "# Assuming your spatial data is stored in a variable called \"spatial_data\"\n",
    "# Access the x-coordinates (first column) and y-coordinates (second column)\n",
    "x_coordinates = adata.obsm['spatial'][:, 0]\n",
    "y_coordinates = adata.obsm['spatial'][:, 1]\n",
    "\n",
    "# Find the minimum and maximum x and y coordinates\n",
    "min_x = np.min(x_coordinates)\n",
    "max_x = np.max(x_coordinates)\n",
    "min_y = np.min(y_coordinates)\n",
    "max_y = np.max(y_coordinates)\n",
    "\n",
    "print(\"Minimum x-coordinate:\", min_x)\n",
    "print(\"Maximum x-coordinate:\", max_x)\n",
    "print(\"Minimum y-coordinate:\", min_y)\n",
    "print(\"Maximum y-coordinate:\", max_y)"
   ]
  }
 ],
 "metadata": {
  "kernelspec": {
   "display_name": "A2",
   "language": "python",
   "name": "python3"
  },
  "language_info": {
   "codemirror_mode": {
    "name": "ipython",
    "version": 3
   },
   "file_extension": ".py",
   "mimetype": "text/x-python",
   "name": "python",
   "nbconvert_exporter": "python",
   "pygments_lexer": "ipython3",
   "version": "3.11.6"
  },
  "orig_nbformat": 4
 },
 "nbformat": 4,
 "nbformat_minor": 2
}
