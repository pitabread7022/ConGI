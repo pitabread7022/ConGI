{
 "cells": [
  {
   "cell_type": "code",
   "execution_count": null,
   "metadata": {},
   "outputs": [],
   "source": [
    "# %pip install torch\n",
    "# %pip install CUDA\n",
    "# %pip install scanpy==1.8.1\n",
    "# %pip install rpy2\n",
    "# %pip install torchvision\n",
    "# %pip install opencv-python\n",
    "# %pip install torchtoolbox\n",
    "# %pip install pandas"
   ]
  },
  {
   "cell_type": "code",
   "execution_count": null,
   "metadata": {},
   "outputs": [],
   "source": [
    "import pandas as pd\n",
    "import os\n",
    "from ConGI.utils import load_ST_file\n",
    "path = 'D:\\\\Genomics\\\\A2\\\\dataset-1\\\\SpatialLIBID\\\\'\n",
    "def form_meta(name, path='barcode_level_layer_map.tsv'):\n",
    "    file_path = os.path.join(os.path.dirname(path), 'metadata.tsv')\n",
    "    df = pd.read_csv(path, delimiter='\\t')\n",
    "    print(df.head())\n",
    "    data = {\n",
    "    'barcodes': [],\n",
    "    'layer_guess': []\n",
    "    }\n",
    "    for i in range(len(df['AAACAACGAATAGTTC-1'])):\n",
    "        if df['151507'][i] == int(name):\n",
    "            data['barcodes'].append(df['AAACAACGAATAGTTC-1'][i])\n",
    "            data['layer_guess'].append(df['L1'][i])\n",
    "    \n",
    "    df = pd.DataFrame(data)\n",
    "    print(df.head())\n",
    "    print(df.shape)\n",
    "    df.to_csv(os.path.join(path,name,'metadata.tsv'), sep='\\t', index=True)\n",
    "\n",
    "def adjust_meta():\n",
    "    df_meta = pd.read_csv('D:\\\\Genomics\\\\A2\\\\dataset-1\\\\SpatialLIBID\\\\151507\\\\metadata.tsv', delimiter='\\t')\n",
    "    path = 'D:\\Genomics\\A2\\dataset-1\\SpatialLIBID'\n",
    "    name = '151507'\n",
    "    adata = load_ST_file(os.path.join(path, name))\n",
    "    data = {\n",
    "    'barcodes': [],\n",
    "    'layer_guess': []\n",
    "    }\n",
    "\n",
    "    barcodelist = df_meta['barcodes'].values.tolist()\n",
    "    layerlist = df_meta['layer_guess'].values.tolist()\n",
    "\n",
    "    for barcode in adata.obs.index:\n",
    "        try:\n",
    "            index = barcodelist.index(str(barcode))\n",
    "            data['barcodes'].append(barcodelist[index])\n",
    "            data['layer_guess'].append(layerlist[index])\n",
    "        except:\n",
    "            data['barcodes'].append(str(barcode))\n",
    "            data['layer_guess'].append(str(-1))\n",
    "    df = pd.DataFrame(data)\n",
    "    df.to_csv('D:\\\\Genomics\\\\A2\\\\dataset-1\\\\SpatialLIBID\\\\151507\\\\metadata.tsv', sep='\\t', index=False)\n",
    "\n",
    "\n",
    "form_meta(name = '151507')\n",
    "adjust_meta()\n"
   ]
  },
  {
   "cell_type": "code",
   "execution_count": null,
   "metadata": {},
   "outputs": [],
   "source": [
    "# from ConGI.utils import load_ST_file\n",
    "# path = 'D:\\Genomics\\A2\\dataset-1\\SpatialLIBID'\n",
    "# name = '151507'\n",
    "# adata = load_ST_file(os.path.join(path, name))\n",
    "# df_meta = pd.read_csv(os.path.join(path, name, 'metadata.tsv'), sep='\\t')\n",
    "# label = pd.Categorical(df_meta['layer_guess']).codes\n",
    "\n",
    "# data = {\n",
    "#     'barcodes': [],\n",
    "#     'layer_guess': []\n",
    "#     }\n",
    "\n",
    "# barcodelist = df_meta['barcodes'].values.tolist()\n",
    "# layerlist = df_meta['layer_guess'].values.tolist()\n",
    "\n",
    "# for barcode in adata.obs.index:\n",
    "#     try:\n",
    "#         index = barcodelist.index(str(barcode))\n",
    "#         data['barcodes'].append(barcodelist[index])\n",
    "#         data['layer_guess'].append(layerlist[index])\n",
    "#     except:\n",
    "#         data['barcodes'].append(str(barcode))\n",
    "#         data['layer_guess'].append(str(-1))\n",
    "# print(data.keys())\n",
    "# print(data['barcodes'])\n",
    "# print(data['layer_guess'])\n",
    "# print(barcodelist)\n",
    "# print(layerlist)"
   ]
  },
  {
   "cell_type": "code",
   "execution_count": 14,
   "metadata": {},
   "outputs": [
    {
     "name": "stdout",
     "output_type": "stream",
     "text": [
      "[[0 0 0 0 0]\n",
      " [0 1 2 3 0]\n",
      " [0 4 5 6 0]\n",
      " [0 7 8 9 0]\n",
      " [0 0 0 0 0]]\n"
     ]
    }
   ],
   "source": [
    "import numpy as np\n",
    "\n",
    "def pad_image(image_matrix):\n",
    "    # Get the dimensions of the original image matrix\n",
    "    height, width = image_matrix.shape\n",
    "\n",
    "    # Determine the desired dimensions for the padded image\n",
    "    padded_height = height + 2  # Add 2 rows of zeros (one at the top and one at the bottom)\n",
    "    padded_width = width + 2    # Add 2 columns of zeros (one on the left and one on the right)\n",
    "\n",
    "    # Create a new matrix filled with zeros with the desired dimensions\n",
    "    padded_image = np.zeros((padded_height, padded_width), dtype=image_matrix.dtype)\n",
    "\n",
    "    # Copy the original image into the center of the padded matrix\n",
    "    padded_image[1:-1, 1:-1] = image_matrix\n",
    "\n",
    "    return padded_image\n",
    "\n",
    "# Example usage:\n",
    "original_image = np.array([[1, 2, 3],\n",
    "                           [4, 5, 6],\n",
    "                           [7, 8, 9]])\n",
    "\n",
    "padded_image = pad_image(original_image)\n",
    "print(padded_image)"
   ]
  },
  {
   "cell_type": "code",
   "execution_count": null,
   "metadata": {},
   "outputs": [],
   "source": [
    "%pwd"
   ]
  },
  {
   "cell_type": "code",
   "execution_count": 13,
   "metadata": {},
   "outputs": [
    {
     "ename": "NameError",
     "evalue": "name 'gene_preprocess' is not defined",
     "output_type": "error",
     "traceback": [
      "\u001b[1;31m---------------------------------------------------------------------------\u001b[0m",
      "\u001b[1;31mNameError\u001b[0m                                 Traceback (most recent call last)",
      "\u001b[1;32md:\\Genomics\\A2\\ConGI\\book1.ipynb Cell 6\u001b[0m line \u001b[0;36m2\n\u001b[0;32m      <a href='vscode-notebook-cell:/d%3A/Genomics/A2/ConGI/book1.ipynb#X13sZmlsZQ%3D%3D?line=0'>1</a>\u001b[0m \u001b[39mfrom\u001b[39;00m \u001b[39mdataset\u001b[39;00m \u001b[39mimport\u001b[39;00m Dataset\n\u001b[1;32m----> <a href='vscode-notebook-cell:/d%3A/Genomics/A2/ConGI/book1.ipynb#X13sZmlsZQ%3D%3D?line=1'>2</a>\u001b[0m trainset \u001b[39m=\u001b[39m Dataset(dataset\u001b[39m=\u001b[39m\u001b[39m'\u001b[39m\u001b[39mSpatialLIBD\u001b[39m\u001b[39m'\u001b[39m, path\u001b[39m=\u001b[39m\u001b[39m'\u001b[39m\u001b[39mD:\u001b[39m\u001b[39m\\\u001b[39m\u001b[39mGenSomics\u001b[39m\u001b[39m\\\u001b[39m\u001b[39mA2\u001b[39m\u001b[39m\\\u001b[39m\u001b[39mdataset-1\u001b[39m\u001b[39m\\\u001b[39m\u001b[39mSpatialLIBID\u001b[39m\u001b[39m'\u001b[39m, name\u001b[39m=\u001b[39m\u001b[39m'\u001b[39m\u001b[39m151507\u001b[39m\u001b[39m'\u001b[39m, gene_preprocess\u001b[39m=\u001b[39mgene_preprocess, n_genes\u001b[39m=\u001b[39mn_gene,\n\u001b[0;32m      <a href='vscode-notebook-cell:/d%3A/Genomics/A2/ConGI/book1.ipynb#X13sZmlsZQ%3D%3D?line=2'>3</a>\u001b[0m                    prob_mask\u001b[39m=\u001b[39mprob_mask, pct_mask\u001b[39m=\u001b[39mpct_mask, prob_noise\u001b[39m=\u001b[39mprob_noise, pct_noise\u001b[39m=\u001b[39mpct_noise, sigma_noise\u001b[39m=\u001b[39msigma_noise,\n\u001b[0;32m      <a href='vscode-notebook-cell:/d%3A/Genomics/A2/ConGI/book1.ipynb#X13sZmlsZQ%3D%3D?line=3'>4</a>\u001b[0m                    prob_swap\u001b[39m=\u001b[39mprob_swap, pct_swap\u001b[39m=\u001b[39mpct_swap, img_size\u001b[39m=\u001b[39mimg_size, train\u001b[39m=\u001b[39m\u001b[39mTrue\u001b[39;00m)\n\u001b[0;32m      <a href='vscode-notebook-cell:/d%3A/Genomics/A2/ConGI/book1.ipynb#X13sZmlsZQ%3D%3D?line=5'>6</a>\u001b[0m \u001b[39m# dataset = Dataset.__init__(dataset = \"SpatialLIBD\", path = 'D:\\Genomics\\A2\\dataset-1\\SpatialLIBID', name = '151507')\u001b[39;00m\n\u001b[0;32m      <a href='vscode-notebook-cell:/d%3A/Genomics/A2/ConGI/book1.ipynb#X13sZmlsZQ%3D%3D?line=6'>7</a>\u001b[0m \u001b[39m# dataset = Dataset(dataset='SpatialLIBD', path='D:\\GenSomics\\A2\\dataset-1\\SpatialLIBID', name='151507')\u001b[39;00m\n\u001b[0;32m      <a href='vscode-notebook-cell:/d%3A/Genomics/A2/ConGI/book1.ipynb#X13sZmlsZQ%3D%3D?line=7'>8</a>\u001b[0m \u001b[39mprint\u001b[39m(dataset)\n",
      "\u001b[1;31mNameError\u001b[0m: name 'gene_preprocess' is not defined"
     ]
    }
   ],
   "source": [
    "from dataset import Dataset\n",
    "trainset = Dataset(dataset='SpatialLIBD', path='D:\\GenSomics\\A2\\dataset-1\\SpatialLIBID', name='151507', gene_preprocess=gene_preprocess, n_genes=n_gene,\n",
    "                   prob_mask=prob_mask, pct_mask=pct_mask, prob_noise=prob_noise, pct_noise=pct_noise, sigma_noise=sigma_noise,\n",
    "                   prob_swap=prob_swap, pct_swap=pct_swap, img_size=img_size, train=True)\n",
    "\n",
    "# dataset = Dataset.__init__(dataset = \"SpatialLIBD\", path = 'D:\\Genomics\\A2\\dataset-1\\SpatialLIBID', name = '151507')\n",
    "# dataset = Dataset(dataset='SpatialLIBD', path='D:\\GenSomics\\A2\\dataset-1\\SpatialLIBID', name='151507')\n",
    "print(dataset)"
   ]
  },
  {
   "cell_type": "code",
   "execution_count": 12,
   "metadata": {},
   "outputs": [
    {
     "data": {
      "text/plain": [
       "array([], shape=(4226, 0, 0, 3), dtype=uint8)"
      ]
     },
     "execution_count": 12,
     "metadata": {},
     "output_type": "execute_result"
    }
   ],
   "source": [
    "# dataset.__init__\n",
    "# dataset.__init_subclass__\n",
    "# dataset.__getstate__\n",
    "# dataset.__annotations__\n",
    "dataset.image"
   ]
  },
  {
   "cell_type": "code",
   "execution_count": 2,
   "metadata": {},
   "outputs": [
    {
     "name": "stdout",
     "output_type": "stream",
     "text": [
      "['__add__', '__annotations__', '__class__', '__class_getitem__', '__delattr__', '__dict__', '__dir__', '__doc__', '__eq__', '__format__', '__ge__', '__getattribute__', '__getitem__', '__getstate__', '__gt__', '__hash__', '__init__', '__init_subclass__', '__le__', '__len__', '__lt__', '__module__', '__ne__', '__new__', '__orig_bases__', '__parameters__', '__reduce__', '__reduce_ex__', '__repr__', '__setattr__', '__sizeof__', '__slots__', '__str__', '__subclasshook__', '__weakref__', '_is_protocol', 'gene', 'gene_train_transform', 'image', 'img_test_transform', 'img_train_transform', 'label', 'n_clusters', 'n_pos', 'spatial', 'train']\n",
      "[0 3 1 ... 7 6 1]\n",
      "Compose(\n",
      "    <torchtoolbox.transform.transforms.Cutout object at 0x000001C835D8E6D0>\n",
      "    ToTensor()\n",
      "    RandomHorizontalFlip(p=0.5)\n",
      "    RandomVerticalFlip(p=0.5)\n",
      "    RandomApply(\n",
      "    p=0.8\n",
      "    ColorJitter(brightness=(0.6, 1.4), contrast=(0.6, 1.4), saturation=(0.6, 1.4), hue=(-0.1, 0.1))\n",
      ")\n",
      "    RandomGrayscale(p=0.2)\n",
      "    Normalize(mean=[0.485, 0.456, 0.406], std=[0.229, 0.224, 0.225])\n",
      ")\n",
      "[]\n"
     ]
    }
   ],
   "source": [
    "# dataset.__init__(dataset='SpatialLIBD', path='D:\\Genomics\\A2\\dataset-1\\SpatialLIBID', name='151507')\n",
    "dataset.__getitem__(0)\n",
    "print(dir(dataset))\n",
    "print(dataset.label)\n",
    "print(dataset.img_train_transform)\n",
    "print(dataset.image)"
   ]
  },
  {
   "cell_type": "code",
   "execution_count": 3,
   "metadata": {},
   "outputs": [
    {
     "name": "stdout",
     "output_type": "stream",
     "text": [
      "(4226, 0, 0, 3)\n",
      "(4226,)\n",
      "(0, 0, 3)\n",
      "[]\n",
      "{'training': True, '_parameters': OrderedDict(), '_buffers': OrderedDict(), '_non_persistent_buffers_set': set(), '_backward_pre_hooks': OrderedDict(), '_backward_hooks': OrderedDict(), '_is_full_backward_hook': None, '_forward_hooks': OrderedDict(), '_forward_hooks_with_kwargs': OrderedDict(), '_forward_hooks_always_called': OrderedDict(), '_forward_pre_hooks': OrderedDict(), '_forward_pre_hooks_with_kwargs': OrderedDict(), '_state_dict_hooks': OrderedDict(), '_state_dict_pre_hooks': OrderedDict(), '_load_state_dict_pre_hooks': OrderedDict(), '_load_state_dict_post_hooks': OrderedDict(), '_modules': OrderedDict(), 'n_genes': 3000, 'prob_mask': 0.5, 'pct_mask': 0.2, 'prob_noise': 0.5, 'pct_noise': 0.8, 'sigma_noise': 0.5, 'prob_swap': 0.5, 'pct_swap': 0.1}\n",
      "{'transforms': [<torchtoolbox.transform.transforms.Cutout object at 0x000001C835D8E6D0>, ToTensor(), RandomHorizontalFlip(p=0.5), RandomVerticalFlip(p=0.5), RandomApply(\n",
      "    p=0.8\n",
      "    ColorJitter(brightness=(0.6, 1.4), contrast=(0.6, 1.4), saturation=(0.6, 1.4), hue=(-0.1, 0.1))\n",
      "), RandomGrayscale(p=0.2), Normalize(mean=[0.485, 0.456, 0.406], std=[0.229, 0.224, 0.225])]}\n"
     ]
    }
   ],
   "source": [
    "print(dataset.image.shape)\n",
    "print(dataset.label.shape)\n",
    "# print(dataset.label)\n",
    "print(dataset.image[1].shape)\n",
    "print(dataset.image[1])\n",
    "print(dataset.gene_train_transform.__dict__)\n",
    "print(dataset.img_train_transform.__dict__)\n"
   ]
  },
  {
   "cell_type": "code",
   "execution_count": 5,
   "metadata": {},
   "outputs": [
    {
     "name": "stdout",
     "output_type": "stream",
     "text": [
      "[[3276 2514]\n",
      " [9178 8520]\n",
      " [5133 2878]\n",
      " ...\n",
      " [4218 9703]\n",
      " [4017 7906]\n",
      " [5683 3359]]\n"
     ]
    }
   ],
   "source": [
    "print(dataset.spatial)"
   ]
  },
  {
   "cell_type": "code",
   "execution_count": null,
   "metadata": {},
   "outputs": [],
   "source": [
    "#what can i access from dataset\n",
    "print(dataset.__dict__.keys())"
   ]
  }
 ],
 "metadata": {
  "kernelspec": {
   "display_name": "A2",
   "language": "python",
   "name": "python3"
  },
  "language_info": {
   "codemirror_mode": {
    "name": "ipython",
    "version": 3
   },
   "file_extension": ".py",
   "mimetype": "text/x-python",
   "name": "python",
   "nbconvert_exporter": "python",
   "pygments_lexer": "ipython3",
   "version": "3.11.6"
  },
  "orig_nbformat": 4
 },
 "nbformat": 4,
 "nbformat_minor": 2
}
